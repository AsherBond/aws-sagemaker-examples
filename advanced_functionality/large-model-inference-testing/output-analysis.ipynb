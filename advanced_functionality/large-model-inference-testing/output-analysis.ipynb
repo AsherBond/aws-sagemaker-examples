{
 "cells": [
  {
   "cell_type": "markdown",
   "id": "e8a05c0d-3a13-4c3d-924b-204722a3eb74",
   "metadata": {},
   "source": [
    "# Large Model Inference Testing Analysis\n",
    "\n",
    "This notebook helps us analyze the **Unit** and **Locust** testing results. \n"
   ]
  },
  {
   "cell_type": "markdown",
   "id": "cbe5420f-8fd8-462a-8e01-3b2d3bd9e984",
   "metadata": {},
   "source": [
    "## Specify Unit Testing Results Directory\n",
    "\n",
    "Specify the **relative path** to the Unit testing results directory in `unit_testing_results_dir`, below.\n"
   ]
  },
  {
   "cell_type": "code",
   "execution_count": null,
   "id": "5540d5b7-79c4-4426-a002-56f773dbd3f5",
   "metadata": {
    "tags": []
   },
   "outputs": [],
   "source": [
    "import os\n",
    "import glob\n",
    "from pathlib import Path\n",
    "\n",
    "unit_testing_results_dir=None\n",
    "assert unit_testing_results_dir is not None, \"Please specify Unit testing results directory\"\n",
    "\n",
    "results_path=Path(unit_testing_results_dir)\n",
    "assert os.path.isdir(results_path), f\"{results_path} directory does not exist; make sure to use relative path\"\n"
   ]
  },
  {
   "cell_type": "markdown",
   "id": "37a97793-d1ef-4e77-b663-3c3406dc25f6",
   "metadata": {},
   "source": [
    "## Find Latest Unit Testing Results\n",
    "\n",
    "We scan the unit testing results directory, and select the latest results, as shown below."
   ]
  },
  {
   "cell_type": "code",
   "execution_count": null,
   "id": "382fe0d3-75b0-479a-a26a-2edf5dc4bf77",
   "metadata": {
    "tags": []
   },
   "outputs": [],
   "source": [
    "import os\n",
    "import glob\n",
    "\n",
    "results_files=glob.glob(os.path.join(results_path, \"*.json\"))\n",
    "result_latest = max(results_files, key=os.path.getmtime)\n",
    "print(f\"Using latest results: {result_latest}\")\n"
   ]
  },
  {
   "cell_type": "markdown",
   "id": "3ce610c7-023f-41bb-b444-d37544d3be2f",
   "metadata": {},
   "source": [
    "## Visualize Unit Testing Results\n",
    "\n",
    "Below, we visualize the latest results using Pandas data frames, and display `top_n` rows. "
   ]
  },
  {
   "cell_type": "code",
   "execution_count": null,
   "id": "67acdee7-a81d-4b7d-b033-007b74659ea1",
   "metadata": {
    "tags": []
   },
   "outputs": [],
   "source": [
    "import os\n",
    "import glob\n",
    "import pandas as pd\n",
    "from IPython.display import display\n",
    "\n",
    "df = pd.read_json(result_latest, lines=True)\n",
    "\n",
    "top_n = 5\n",
    "\n",
    "result_latest_parts = result_latest.split(\"/\")[1:-2]\n",
    "caption = \" \".join(result_latest_parts).upper()\n",
    "\n",
    "df = df.truncate(after=top_n - 1, axis=0)\n",
    "df.index += 1\n",
    "df = df.style \\\n",
    "  .format(precision=5) \\\n",
    "  .format_index(str.upper, axis=1) \\\n",
    "    .set_properties(**{'text-align': 'left'}) \\\n",
    "    .set_caption(caption)\n",
    "display(df)\n",
    "\n"
   ]
  },
  {
   "cell_type": "markdown",
   "id": "7a884ed1-d085-4e13-a6bb-e77d85596407",
   "metadata": {},
   "source": [
    "## Specify Locust Testing Results Directory\n",
    "\n",
    "Next, specify the **relative path** to the Locust testing results directory in `locust_testing_results_dir`, below."
   ]
  },
  {
   "cell_type": "code",
   "execution_count": null,
   "id": "91358434-2f71-4b57-8fbf-e36cdc8168dd",
   "metadata": {
    "tags": []
   },
   "outputs": [],
   "source": [
    "import os\n",
    "import glob\n",
    "from pathlib import Path\n",
    "\n",
    "locust_testing_results_dir=None\n",
    "assert locust_testing_results_dir is not None, \"Please specify Locust testing results directory\"\n",
    "\n",
    "results_path=Path(locust_testing_results_dir)\n",
    "assert os.path.isdir(results_path), f\"{results_path} directory does not exist; make sure to use relative path\"\n",
    "\n"
   ]
  },
  {
   "cell_type": "markdown",
   "id": "9fe4a680-d2ba-4c47-9d05-8e770dd5faef",
   "metadata": {},
   "source": [
    "## Find Locust Testing Results\n",
    "\n",
    "Next, we find the Locust testing results under the specified Locust testing results directory."
   ]
  },
  {
   "cell_type": "code",
   "execution_count": null,
   "id": "3dc94333-f7c9-427c-844e-e6575cc74a65",
   "metadata": {
    "tags": []
   },
   "outputs": [],
   "source": [
    "\n",
    "results_files=glob.glob(os.path.join(results_path, \"*_stats.csv\"))\n",
    "result_latest = max(results_files, key=os.path.getmtime)\n",
    "print(f\"Using latest results: {result_latest}\")\n",
    "\n"
   ]
  },
  {
   "cell_type": "markdown",
   "id": "cd193d9f-89e0-46fa-bb17-82deacaa5791",
   "metadata": {},
   "source": [
    "## Visualize Locust Testing Results\n",
    "\n",
    "Below, we first visualize the Locust testing results as a table."
   ]
  },
  {
   "cell_type": "code",
   "execution_count": null,
   "id": "b778bc41-eefc-4ca2-9cf1-336247cf6670",
   "metadata": {
    "tags": []
   },
   "outputs": [],
   "source": [
    "import pandas as pd\n",
    "from IPython.display import display\n",
    "import numpy as np\n",
    "\n",
    "df = pd.read_csv(result_latest)\n",
    "df = df.replace(np.nan, '')\n",
    "\n",
    "top_n = 1\n",
    "\n",
    "result_latest_parts = result_latest.split(\"/\")[1:-2]\n",
    "caption = \" \".join(result_latest_parts).upper()\n",
    "\n",
    "df = df.truncate(after=top_n - 1, axis=0)\n",
    "df = df.style \\\n",
    "      .format(precision=6) \\\n",
    "        .set_properties(**{'text-align': 'left'}) \\\n",
    "        .set_caption(caption)\n",
    "display(df)\n",
    "\n"
   ]
  },
  {
   "cell_type": "markdown",
   "id": "c390a9d7-5eee-40d8-bdd0-af27f83841af",
   "metadata": {},
   "source": [
    "Next we visualize key metrics in a plot."
   ]
  },
  {
   "cell_type": "code",
   "execution_count": null,
   "id": "864e5381-5fb4-4ac7-b7db-8629e4b8d8e7",
   "metadata": {},
   "outputs": [],
   "source": [
    "\n",
    "df = pd.read_csv(result_latest)\n",
    "df = df[[ 'Median Response Time', 'Average Response Time', 'Min Response Time', 'Max Response Time', '95%' ]]\n",
    "df = df.replace(np.nan, '')\n",
    "\n",
    "top_n = 1\n",
    "df = df.truncate(after=top_n - 1, axis=0)\n",
    "df.plot.bar()\n",
    "    "
   ]
  }
 ],
 "metadata": {
  "kernelspec": {
   "display_name": "conda_python3",
   "language": "python",
   "name": "conda_python3"
  },
  "language_info": {
   "codemirror_mode": {
    "name": "ipython",
    "version": 3
   },
   "file_extension": ".py",
   "mimetype": "text/x-python",
   "name": "python",
   "nbconvert_exporter": "python",
   "pygments_lexer": "ipython3",
   "version": "3.10.13"
  }
 },
 "nbformat": 4,
 "nbformat_minor": 5
}
